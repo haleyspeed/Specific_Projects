{
 "cells": [
  {
   "cell_type": "markdown",
   "metadata": {},
   "source": [
    "# FFT of oscillation traces"
   ]
  },
  {
   "cell_type": "markdown",
   "metadata": {},
   "source": [
    "### User Input"
   ]
  },
  {
   "cell_type": "code",
   "execution_count": 9,
   "metadata": {},
   "outputs": [],
   "source": [
    "strain = 'het_b'\n",
    "freq_bands = [4,8]\n",
    "ctr_f = '2020_01_22_0007.abf'\n",
    "ctr_channel = 0\n",
    "cell = 1\n",
    "ctr_swps = [0]\n",
    "ctr_start = 0 # in seconds\n",
    "ctr_end = 120 # in seconds\n",
    "\n",
    "nmda_f = '2020_01_22_0007.abf'\n",
    "nmda_channel = ctr_channel\n",
    "nmda_swps = [0]\n",
    "nmda_start = 480\n",
    "nmda_end = 560 # in sec\n",
    "\n",
    "conc_nmda = 5\n",
    "sample_rate = 10000 # in Hz\n",
    "step = 2 * sample_rate # window size\n",
    "\n",
    "ctr_start = ctr_start * sample_rate \n",
    "ctr_end = ctr_end * sample_rate \n",
    "nmda_start = nmda_start * sample_rate\n",
    "nmda_end = nmda_end * sample_rate \n",
    "\n",
    "file_id = ctr_f + ' | ' + nmda_f\n",
    "\n"
   ]
  },
  {
   "cell_type": "markdown",
   "metadata": {},
   "source": [
    "### Import Packages"
   ]
  },
  {
   "cell_type": "code",
   "execution_count": 10,
   "metadata": {},
   "outputs": [],
   "source": [
    "import pyabf\n",
    "import os\n",
    "import numpy as np\n",
    "import pandas as pd\n",
    "import matplotlib.pyplot as plt\n",
    "from IPython.display import display, HTML\n",
    "from sklearn.metrics import auc\n",
    "import configparser\n",
    "import scipy.fftpack"
   ]
  },
  {
   "cell_type": "markdown",
   "metadata": {},
   "source": [
    "### Read in the ABF File"
   ]
  },
  {
   "cell_type": "code",
   "execution_count": 11,
   "metadata": {},
   "outputs": [
    {
     "name": "stdout",
     "output_type": "stream",
     "text": [
      "6100000\n",
      "5600000\n"
     ]
    }
   ],
   "source": [
    "dir_in = os.getcwd()\n",
    "dir_out = dir_in + '\\\\Analyzed'\n",
    "\n",
    "ctr_abf = pyabf.ABF(ctr_f)   # Read in time series for the control condition\n",
    "nmda_abf = pyabf.ABF(nmda_f)     # Read in time series for the nmda condition\n",
    "\n",
    "print(len(nmda_abf.sweepX))\n",
    "print(nmda_end)\n"
   ]
  },
  {
   "cell_type": "markdown",
   "metadata": {},
   "source": [
    "### Function Definitions"
   ]
  },
  {
   "cell_type": "code",
   "execution_count": 12,
   "metadata": {
    "scrolled": false
   },
   "outputs": [],
   "source": [
    "def full_fft(abf, sweep, channel):\n",
    "    abf.setSweep (sweepNumber = sweep-1, channel = channel)    \n",
    "    x = abf.sweepX * sample_rate\n",
    "    y = abf.sweepY\n",
    "    sampling_interval = 1000/sample_rate\n",
    "\n",
    "    # Frequency domain representation\n",
    "    xform = np.fft.fft(y)/len(y) # Normalize amplitude\n",
    "    xform = xform[range(int(len(y)/2))] # Exclude sampling frequency\n",
    "    timepoints = len(y)\n",
    "    values      = np.arange(int(timepoints/2))\n",
    "    time_period  = timepoints/sample_rate\n",
    "    frequencies = values/time_period\n",
    "\n",
    "    #fig, ax = plt.subplots(figsize = (10,3), dpi= 100)\n",
    "    #ax.plot(frequencies[2:], abs(xform)[2:])\n",
    "    #ax.set_xlim(2,10)\n",
    "    #ax.set_ylim (0,1)\n",
    "    return frequencies[2:], abs(xform)[2:]\n",
    "\n",
    "def part_fft(abf, sweep, channel, start, end):\n",
    "    abf.setSweep (sweepNumber = 0, channel = channel)    \n",
    "    x = abf.sweepX[start:end]/sample_rate\n",
    "    y = abf.sweepY[start:end]\n",
    "    sampling_interval = 1000/sample_rate\n",
    "\n",
    "    # Frequency domain representation\n",
    "    xform = np.fft.fft(y)/len(y) # Normalize amplitude\n",
    "    xform = xform[range(int(len(y)/2))] # Exclude sampling frequency\n",
    "    timepoints = len(y)\n",
    "    values      = np.arange(int(timepoints/2))\n",
    "    time_period  = timepoints/sample_rate\n",
    "    frequencies = values/time_period\n",
    "\n",
    "    #fig, ax = plt.subplots(figsize = (10,3), dpi= 100)\n",
    "    #ax.plot(x,y)\n",
    "    #ax.plot(frequencies[2:], abs(xform)[2:])\n",
    "    #ax.set_xlim(2,10)\n",
    "    #ax.set_ylim (0,1)\n",
    "    return frequencies[2:], abs(xform)[2:]"
   ]
  },
  {
   "cell_type": "markdown",
   "metadata": {},
   "source": [
    "### Continuous Control Condition: Get FFTs for each sweep in the list"
   ]
  },
  {
   "cell_type": "code",
   "execution_count": 13,
   "metadata": {
    "scrolled": true
   },
   "outputs": [
    {
     "data": {
      "text/plain": [
       "Text(0, 0.5, 'Spectral Density (mV$^2$/Hz)')"
      ]
     },
     "execution_count": 13,
     "metadata": {},
     "output_type": "execute_result"
    },
    {
     "data": {
      "image/png": "[encoded data removed]",
      "text/plain": [
       "<Figure size 1000x300 with 1 Axes>"
      ]
     },
     "metadata": {
      "needs_background": "light"
     },
     "output_type": "display_data"
    }
   ],
   "source": [
    "df_ctr = pd.DataFrame()\n",
    "i = 0\n",
    "win_start = ctr_start\n",
    "while i < (nmda_end-nmda_start)/step:\n",
    "    win_start = win_start + step\n",
    "    win_end = win_start + step\n",
    "    frequencies, xform = part_fft(ctr_abf, ctr_swps, ctr_channel, win_start, win_end)\n",
    "    if i == 0:\n",
    "        df_ctr['frequencies'] = frequencies\n",
    "        df_ctr = df_ctr.set_index('frequencies')\n",
    "        i = i + 1\n",
    "    else:\n",
    "        if len(frequencies) == len(df_ctr.index):\n",
    "            df_ctr['sweep_'+str(ctr_swps)] = xform\n",
    "            df_ctr['avg'] = df_ctr.mean(axis = 1)    \n",
    "        else:\n",
    "            i = ctr_end/step\n",
    "    i = i + 1  \n",
    "    \n",
    "fig, ax = plt.subplots(figsize = (10,3), dpi= 100)\n",
    "ax.plot(df_ctr.index.values, df_ctr.avg)\n",
    "ax.set_xlim(2,20)\n",
    "ax.set_xlabel ('Frequency (Hz)')\n",
    "ax.set_ylabel ('Spectral Density (mV' + r'$^2$' + '/Hz)')\n",
    "      \n",
    "    \n"
   ]
  },
  {
   "cell_type": "markdown",
   "metadata": {},
   "source": [
    "### Continuous NMDA Condition: Get FFTs for each sweep in the list"
   ]
  },
  {
   "cell_type": "code",
   "execution_count": 14,
   "metadata": {},
   "outputs": [
    {
     "data": {
      "image/png": "[encoded data removed]",
      "text/plain": [
       "<Figure size 1000x300 with 1 Axes>"
      ]
     },
     "metadata": {
      "needs_background": "light"
     },
     "output_type": "display_data"
    }
   ],
   "source": [
    "df_nmda = pd.DataFrame()\n",
    "i = 0\n",
    "win_start = nmda_start\n",
    "while i < (nmda_end-nmda_start)/step:\n",
    "    win_start = win_start + step\n",
    "    win_end = win_start + step\n",
    "    frequencies, xform = part_fft(nmda_abf, nmda_swps, nmda_channel, win_start, win_end)\n",
    "    if i == 0:\n",
    "        df_nmda['frequencies'] = frequencies\n",
    "        df_nmda = df_nmda.set_index('frequencies')\n",
    "        i = i + 1\n",
    "    else:\n",
    "        if len(frequencies) == len(df_nmda.index):\n",
    "            df_nmda['sweep_'+str(nmda_swps)] = xform\n",
    "            df_nmda['avg'] = df_nmda.mean(axis = 1)    \n",
    "        else:\n",
    "            i = nmda_end/step\n",
    "    i = i + 1  \n",
    "    \n",
    "fig, ax = plt.subplots(figsize = (10,3), dpi= 100)\n",
    "ax.plot(df_ctr.index.values, df_ctr.avg, color = \"blue\", label = 'control')\n",
    "ax.plot(df_nmda.index.values, df_nmda.avg, color = \"red\", label = \"NMDA\")\n",
    "ax.set_xlim(2,20)\n",
    "\n",
    "ax.set_xlabel ('Frequency (Hz)')\n",
    "ax.set_ylabel ('Spectral Density (mV' + r'$^2$' + '/Hz)')\n",
    "handles, labels = ax.get_legend_handles_labels()\n",
    "ax.legend(handles, labels)\n",
    "ax.spines['top'].set_visible(False)\n",
    "ax.spines['right'].set_visible(False)"
   ]
  },
  {
   "cell_type": "markdown",
   "metadata": {},
   "source": [
    "### Frequency Band Summary"
   ]
  },
  {
   "cell_type": "code",
   "execution_count": 15,
   "metadata": {},
   "outputs": [
    {
     "data": {
      "text/html": [
       "<table border=\"1\" class=\"dataframe\">\n",
       "  <thead>\n",
       "    <tr style=\"text-align: right;\">\n",
       "      <th></th>\n",
       "      <th>file_id</th>\n",
       "      <th>strain</th>\n",
       "      <th>cell</th>\n",
       "      <th>conc_nmda</th>\n",
       "      <th>ctr_2to8hz_peak</th>\n",
       "      <th>nmda_2to8hz_peak</th>\n",
       "      <th>pchange_2to8hz_peak</th>\n",
       "      <th>ctr_2to8hz_mean</th>\n",
       "      <th>nmda_2to8hz_mean</th>\n",
       "      <th>pchange_2to8hz_mean</th>\n",
       "      <th>ctr_3to6hz_peak</th>\n",
       "      <th>nmda_3to6hz_peak</th>\n",
       "      <th>pchange_3to6hz_peak</th>\n",
       "      <th>ctr_3to6hz_mean</th>\n",
       "      <th>nmda_3to6hz_mean</th>\n",
       "      <th>pchange_3to6hz_mean</th>\n",
       "    </tr>\n",
       "  </thead>\n",
       "  <tbody>\n",
       "    <tr>\n",
       "      <th>0</th>\n",
       "      <td>2020_01_22_0007.abf | 2020_01_22_0007.abf</td>\n",
       "      <td>het_b</td>\n",
       "      <td>1</td>\n",
       "      <td>5</td>\n",
       "      <td>0.055831</td>\n",
       "      <td>0.083936</td>\n",
       "      <td>50.339651</td>\n",
       "      <td>0.037158</td>\n",
       "      <td>0.046871</td>\n",
       "      <td>26.140077</td>\n",
       "      <td>0.054695</td>\n",
       "      <td>0.078872</td>\n",
       "      <td>44.202876</td>\n",
       "      <td>0.054695</td>\n",
       "      <td>0.078872</td>\n",
       "      <td>44.202876</td>\n",
       "    </tr>\n",
       "  </tbody>\n",
       "</table>"
      ],
      "text/plain": [
       "<IPython.core.display.HTML object>"
      ]
     },
     "metadata": {},
     "output_type": "display_data"
    }
   ],
   "source": [
    "# Wide Frequecy band (2-8 Hz)\n",
    "# Peak spectral density\n",
    "ctr_wide_peak = df_ctr.avg[2:8].max()\n",
    "nmda_wide_peak = df_nmda.avg[2:8].max()\n",
    "pchange_wide_peak = 100*(nmda_wide_peak - ctr_wide_peak)/ctr_wide_peak\n",
    "\n",
    "# Mean spectral density\n",
    "ctr_wide_mean = df_ctr.avg[2:8].mean()\n",
    "nmda_wide_mean = df_nmda.avg[2:8].mean()\n",
    "pchange_wide_mean = 100*(nmda_wide_mean - ctr_wide_mean)/ctr_wide_mean\n",
    "\n",
    "# Narrow Frequency Band\n",
    "# Peak Spectral Density\n",
    "ctr_narrow_peak = df_ctr.avg[3:6].max()\n",
    "nmda_narrow_peak = df_nmda.avg[3:6].max()\n",
    "pchange_narrow_peak = 100*(nmda_narrow_peak - ctr_narrow_peak)/ctr_narrow_peak\n",
    "\n",
    "# Mean Spectral Density\n",
    "ctr_narrow_mean = df_ctr.avg[3:6].max()\n",
    "nmda_narrow_mean = df_nmda.avg[3:6].max()\n",
    "pchange_narrow_mean = 100*(nmda_narrow_mean - ctr_narrow_mean)/ctr_narrow_mean\n",
    "\n",
    "df_out = pd.DataFrame ({\"file_id\": ctr_f + ' | ' + nmda_f, \n",
    "           'strain': strain,\n",
    "           'cell': ctr_channel + 1,\n",
    "           'conc_nmda': 5,\n",
    "           'ctr_2to8hz_peak': [ctr_wide_peak],\n",
    "           'nmda_2to8hz_peak': [nmda_wide_peak],\n",
    "           'pchange_2to8hz_peak': [pchange_wide_peak],\n",
    "           'ctr_2to8hz_mean': [ctr_wide_mean],\n",
    "           'nmda_2to8hz_mean': [nmda_wide_mean],\n",
    "           'pchange_2to8hz_mean': [pchange_wide_mean],\n",
    "           'ctr_3to6hz_peak': [ctr_narrow_peak],\n",
    "           'nmda_3to6hz_peak': [nmda_narrow_peak],\n",
    "           'pchange_3to6hz_peak': [pchange_narrow_peak],    \n",
    "           'ctr_3to6hz_mean': [ctr_narrow_mean],\n",
    "           'nmda_3to6hz_mean': [nmda_narrow_mean],\n",
    "           'pchange_3to6hz_mean': [pchange_narrow_mean]\n",
    "          })\n",
    "display(HTML(df_out.to_html()))"
   ]
  },
  {
   "cell_type": "markdown",
   "metadata": {},
   "source": [
    "### Save data to disk"
   ]
  },
  {
   "cell_type": "code",
   "execution_count": 16,
   "metadata": {},
   "outputs": [],
   "source": [
    "fname_ctr = ctr_f.split('.abf')\n",
    "df_ctr.to_csv(strain + '_Ch' + str(ctr_channel) + '_' + fname_ctr[0] + \"_fft_ctr.csv\", index = True)\n",
    "\n",
    "fname_nmda = nmda_f.split('.csv')\n",
    "df_nmda.to_csv(strain + '_Ch' + str(nmda_channel) + '_' + fname_nmda[0] + \"_fft_nmda.csv\", index = True)\n"
   ]
  },
  {
   "cell_type": "markdown",
   "metadata": {},
   "source": [
    "### Upload Results to MySQL Database (personal siteground.com database)"
   ]
  },
  {
   "cell_type": "code",
   "execution_count": 11,
   "metadata": {},
   "outputs": [
    {
     "name": "stdout",
     "output_type": "stream",
     "text": [
      "Data base haleygee_olive  is alive.\n",
      "INSERT INTO fft (file_id,strain,cell,conc_nmda,ctr_2to8hz_peak,nmda_2to8hz_peak,pchange_2to8hz_peak,ctr_2to8hz_mean,nmda_2to8hz_mean,pchange_2to8hz_mean,ctr_3to6hz_peak,nmda_3to6hz_peak,pchange_3to6hz_peak,ctr_3to6hz_mean,nmda_3to6hz_mean,pchange_3to6hz_mean) VALUES (%s,%s,%s,%s,%s,%s,%s,%s,%s,%s,%s,%s,%s,%s,%s,%s)\n"
     ]
    }
   ],
   "source": [
    "import mysql.connector\n",
    "from mysql.connector import errorcode\n",
    "from ephyspy import mysql_manager \n",
    "import configparser\n",
    "\n",
    "config = configparser.ConfigParser()\n",
    "config.read('sg_config.ini')\n",
    "DB_NAME = config.get('connections', 'DB_NAME')\n",
    "USER_NAME = config.get('connections', 'DB_USER')\n",
    "PWD = config.get('connections', 'DB_PWD')\n",
    "HOST_NAME = config.get('connections','DB_HOST')\n",
    "PORT = config.get('connections', 'DB_PORT')\n",
    "\n",
    "cnx = mysql.connector.connect(user = USER_NAME, \n",
    "    password = PWD, host = HOST_NAME, database = DB_NAME, \n",
    "    port = PORT)\n",
    "cursor = cnx.cursor(buffered = True)\n",
    "\n",
    "mysql_manager.locate_database(cursor, DB_NAME)\n",
    "\n",
    "fields = ['file_id',\n",
    "          'strain', \n",
    "          'cell',\n",
    "          'conc_nmda', \n",
    "          'ctr_2to8hz_peak',\n",
    "          'nmda_2to8hz_peak',\n",
    "          'pchange_2to8hz_peak',\n",
    "          'ctr_2to8hz_mean',\n",
    "          'nmda_2to8hz_mean',\n",
    "          'pchange_2to8hz_mean',\n",
    "          'ctr_3to6hz_peak',\n",
    "          'nmda_3to6hz_peak',\n",
    "          'pchange_3to6hz_peak',\n",
    "          'ctr_3to6hz_mean',\n",
    "          'nmda_3to6hz_mean',\n",
    "          'pchange_3to6hz_mean']\n",
    "data = [file_id,\n",
    "          strain, \n",
    "          cell,\n",
    "          conc_nmda, \n",
    "          float(ctr_wide_peak),\n",
    "          float(nmda_wide_peak),\n",
    "          float(pchange_wide_peak),\n",
    "          float(ctr_wide_mean),\n",
    "          float(nmda_wide_mean),\n",
    "          float(pchange_wide_mean),\n",
    "          float(ctr_narrow_peak),\n",
    "          float(nmda_narrow_peak),\n",
    "          float(pchange_narrow_peak),\n",
    "          float(ctr_narrow_mean),\n",
    "          float(nmda_narrow_mean),\n",
    "          float(pchange_narrow_mean)]\n",
    "\n",
    "\n",
    "sql = \"INSERT INTO fft (\"+ ','.join(fields) + ') VALUES (' + ','.join(['%s']*len(fields)) + ')'\n",
    "print (sql)\n",
    "cursor.execute(sql, data)\n",
    "cnx.commit()\n",
    "\n",
    "cnx.commit()\n",
    "\n",
    "cnx.close()"
   ]
  },
  {
   "cell_type": "markdown",
   "metadata": {},
   "source": [
    "### Upload Results to azure database"
   ]
  },
  {
   "cell_type": "code",
   "execution_count": 12,
   "metadata": {},
   "outputs": [
    {
     "name": "stdout",
     "output_type": "stream",
     "text": [
      "haleygeek.database.windows.net slices TacoT0wn! haleygeek.database.windows.net {SQL Server}\n"
     ]
    }
   ],
   "source": [
    "import pyodbc\n",
    "\n",
    "f_config = 'config.ini'\n",
    "config = configparser.ConfigParser()\n",
    "config.read(f_config)\n",
    "username = config.get('connections', 'DB_USER')\n",
    "server = config.get('connections', 'DB_HOST')\n",
    "database = config.get('connections', 'DB_NAME')\n",
    "password = config.get('connections', 'DB_PWD')\n",
    "server = config.get('connections','DB_HOST')\n",
    "driver = config.get('connections', 'DB_DRIVER')\n",
    "print (server, database, password, server, driver)\n",
    "\n",
    "cnxn = pyodbc.connect('DRIVER='+driver+';SERVER='+server+';PORT=1433;DATABASE='+database+';UID='+username+';PWD='+ password)\n",
    "cursor = cnxn.cursor()\n",
    "\n",
    "fields = ['file_id','strain', 'cell','conc_nmda', 'ctr_2to8hz_peak','nmda_2to8hz_peak','pchange_2to8hz_peak',\n",
    "          'ctr_2to8hz_mean','nmda_2to8hz_mean','pchange_2to8hz_mean','ctr_3to6hz_peak','nmda_3to6hz_peak',\n",
    "          'pchange_3to6hz_peak','ctr_3to6hz_mean','nmda_3to6hz_mean','pchange_3to6hz_mean']\n",
    "\n",
    "data = [ctr_f + ' | ' + nmda_f, strain, ctr_channel + 1, 5, ctr_wide_peak, nmda_wide_peak, pchange_wide_peak, \n",
    "        ctr_wide_mean, nmda_wide_mean, pchange_wide_mean, ctr_narrow_peak,nmda_narrow_peak, pchange_narrow_peak, \n",
    "        ctr_narrow_mean,nmda_narrow_mean,pchange_narrow_mean]\n",
    "\n",
    "sql = \"INSERT INTO fft (\"+ ','.join(fields) + ') VALUES (' + ','.join(['?']*len(fields)) + ')'\n",
    "\n",
    "cursor.execute(sql, data)\n",
    "cursor.commit()"
   ]
  },
  {
   "cell_type": "code",
   "execution_count": null,
   "metadata": {},
   "outputs": [],
   "source": []
  }
 ],
 "metadata": {
  "kernelspec": {
   "display_name": "Python 3",
   "language": "python",
   "name": "python3"
  },
  "language_info": {
   "codemirror_mode": {
    "name": "ipython",
    "version": 3
   },
   "file_extension": ".py",
   "mimetype": "text/x-python",
   "name": "python",
   "nbconvert_exporter": "python",
   "pygments_lexer": "ipython3",
   "version": "3.7.3"
  }
 },
 "nbformat": 4,
 "nbformat_minor": 2
}
